{
 "cells": [
  {
   "cell_type": "markdown",
   "id": "9926276f",
   "metadata": {},
   "source": [
    "# Init the connection to Postgres Server "
   ]
  },
  {
   "cell_type": "code",
   "execution_count": null,
   "id": "50e9e505",
   "metadata": {},
   "outputs": [],
   "source": [
    "import psycopg2\n",
    "\n",
    "conn = psycopg2.connect(\n",
    "    host=\"db\", # use here as a host name, service's name defined in docker-compose .yaml file\n",
    "    database=\"postgres\", \n",
    "    user=\"postgres\", \n",
    "    password=\"postgres\", \n",
    "    port=5432\n",
    ")\n",
    "conn.set_session(autocommit=True)"
   ]
  },
  {
   "cell_type": "markdown",
   "id": "153d38e5",
   "metadata": {},
   "source": [
    "## Define helper functions"
   ]
  },
  {
   "cell_type": "code",
   "execution_count": null,
   "id": "96e4e782",
   "metadata": {},
   "outputs": [],
   "source": [
    "def execute_sql(conn, sql):\n",
    "    with conn:\n",
    "        with conn.cursor() as cur:\n",
    "            cur.execute(sql)\n",
    "            return cur.fetchall()\n",
    "\n",
    "        \n",
    "def check_dst_table(conn):\n",
    "    cur = conn.cursor()\n",
    "    cur.execute('SELECT * FROM dest_person')\n",
    "    rows = cur.fetchall()\n",
    "    for row in rows:\n",
    "        print(row)\n",
    "        \n",
    "def get_current_watermark(conn):\n",
    "    result = execute_sql(conn, 'SELECT max(last_modified_time) FROM src_person')\n",
    "    return result[0][0]\n",
    "\n",
    "\n",
    "def get_old_watermark(conn):\n",
    "    result = execute_sql(conn, 'SELECT max(watermark_value) FROM watermarktable')\n",
    "    return result[0][0]\n",
    "\n",
    "\n",
    "def update_watermark(conn, new_watermark):\n",
    "    cur = conn.cursor()\n",
    "    cur.execute(f\"call update_watermark_table('{new_watermark}');\")\n",
    "    \n",
    "    \n",
    "def copy_data(conn, old_watermark, current_watermark):\n",
    "    sql = f\"\"\"\n",
    "    insert into dest_person\n",
    "    select * from src_person \n",
    "    where \n",
    "        last_modified_time > '{old_watermark}'\n",
    "        and last_modified_time <= '{current_watermark}'\n",
    "    \"\"\"\n",
    "    cur = conn.cursor()\n",
    "    cur.execute(sql)\n",
    "    num_of_rows_affected = cur.rowcount\n",
    "    print(f\"* Rows affected: {num_of_rows_affected}\")\n",
    "    \n",
    "\n",
    "def copy_pipeline(conn):\n",
    "    # watermark from watermark table\n",
    "    old_watermark = get_old_watermark(conn)\n",
    "\n",
    "    # current watermark from current table with data \n",
    "    current_watermark = get_current_watermark(conn)\n",
    "\n",
    "    copy_data(conn, old_watermark, current_watermark)\n",
    "\n",
    "    update_watermark(conn, new_watermark=current_watermark)"
   ]
  },
  {
   "cell_type": "markdown",
   "id": "474c896d",
   "metadata": {},
   "source": [
    "# Run demo"
   ]
  },
  {
   "cell_type": "code",
   "execution_count": null,
   "id": "d79275ae",
   "metadata": {},
   "outputs": [],
   "source": [
    "# check if destination table is empty\n",
    "content = check_dst_table(conn)\n",
    "print(content)"
   ]
  },
  {
   "cell_type": "code",
   "execution_count": null,
   "id": "8985370c",
   "metadata": {},
   "outputs": [],
   "source": [
    "# check timestamp from watermark table, it has to be the 1/1/2010 12:00:00 AM, as this \n",
    "# value was set during during docker initialization\n",
    "watermark = get_old_watermark(conn)\n",
    "print(watermark)"
   ]
  },
  {
   "cell_type": "code",
   "execution_count": null,
   "id": "07053b5d",
   "metadata": {},
   "outputs": [],
   "source": [
    "# copy everything from src table to dest table\n",
    "copy_pipeline(conn)"
   ]
  },
  {
   "cell_type": "code",
   "execution_count": null,
   "id": "8c67f1e9",
   "metadata": {},
   "outputs": [],
   "source": [
    "# all rows were transfered from source table to destination table \n",
    "check_dst_table(conn)"
   ]
  },
  {
   "cell_type": "markdown",
   "id": "dc282b1c",
   "metadata": {},
   "source": [
    "### Insert one new data record into source table"
   ]
  },
  {
   "cell_type": "code",
   "execution_count": null,
   "id": "1a404526",
   "metadata": {},
   "outputs": [],
   "source": [
    "sql = \"\"\"\n",
    "    INSERT INTO src_person\n",
    "    VALUES (10, 'newdata1','9/10/2017 2:23:00 AM')\n",
    "\"\"\"\n",
    "cur = conn.cursor()\n",
    "cur.execute(sql)"
   ]
  },
  {
   "cell_type": "markdown",
   "id": "858a0b91",
   "metadata": {},
   "source": [
    "### Executing copy pipeline, it has to copy only one record"
   ]
  },
  {
   "cell_type": "code",
   "execution_count": null,
   "id": "2c64fcbf",
   "metadata": {},
   "outputs": [],
   "source": [
    "copy_pipeline(conn)"
   ]
  },
  {
   "cell_type": "markdown",
   "id": "a9c4af60",
   "metadata": {},
   "source": [
    "### Checking if new record was added"
   ]
  },
  {
   "cell_type": "code",
   "execution_count": null,
   "id": "a4e1efdd",
   "metadata": {},
   "outputs": [],
   "source": [
    "check_dst_table(conn)"
   ]
  },
  {
   "cell_type": "markdown",
   "id": "239dffc8",
   "metadata": {},
   "source": [
    "### Inserting another two records into source table"
   ]
  },
  {
   "cell_type": "code",
   "execution_count": null,
   "id": "71fb8a94",
   "metadata": {},
   "outputs": [],
   "source": [
    "sql = \"\"\"\n",
    "    INSERT INTO src_person\n",
    "    VALUES \n",
    "        (11, 'newdata2','9/11/2017 9:01:00 AM'), \n",
    "        (12, 'newdata2','9/12/2017 9:01:00 AM') \n",
    "\"\"\"\n",
    "cur = conn.cursor()\n",
    "cur.execute(sql)"
   ]
  },
  {
   "cell_type": "markdown",
   "id": "b584b3fc",
   "metadata": {},
   "source": [
    "### After execution of `copy_pipeline` new two records have to be transferred"
   ]
  },
  {
   "cell_type": "code",
   "execution_count": null,
   "id": "68655fe1",
   "metadata": {},
   "outputs": [],
   "source": [
    "copy_pipeline(conn)"
   ]
  },
  {
   "cell_type": "code",
   "execution_count": null,
   "id": "617747b7",
   "metadata": {},
   "outputs": [],
   "source": [
    "check_dst_table(conn)"
   ]
  },
  {
   "cell_type": "markdown",
   "id": "f7ca18c9",
   "metadata": {},
   "source": [
    "## Restart demo\n",
    "\n",
    "### to repeat the demo, execute the following function, it will set everything to the initial state"
   ]
  },
  {
   "cell_type": "code",
   "execution_count": null,
   "id": "20365b10",
   "metadata": {},
   "outputs": [],
   "source": [
    "def restart_demo():\n",
    "    sql = \"\"\"\n",
    "    truncate table src_person;\n",
    "    truncate table dest_person;\n",
    "    truncate table watermarktable;\n",
    " \n",
    "    INSERT INTO watermarktable\n",
    "    VALUES ('1/1/2010 12:00:00 AM');\n",
    "    \n",
    "    insert into src_person (person_id, name, last_modified_time) \n",
    "    values\n",
    "        (1, 'aaaa', '2017-09-01 00:56:00.000'),\n",
    "        (2, 'bbbb', '2017-09-02 05:23:00.000'),\n",
    "        (3, 'cccc', '2017-09-03 02:36:00.000'),\n",
    "        (4, 'dddd', '2017-09-04 03:21:00.000'),\n",
    "        (5, 'eeee', '2017-09-05 08:06:00.000'),\n",
    "        (6, 'fffffff', '2017-09-06 02:23:00.000'),\n",
    "        (7, 'gggg', '2017-09-07 09:01:00.000'),\n",
    "        (8, 'hhhh', '2017-09-08 09:01:00.000'),\n",
    "        (9, 'iiiiiiiii', '2017-09-09 09:01:00.000');\n",
    "    \n",
    "    \"\"\"\n",
    "    cur = conn.cursor()\n",
    "    cur.execute(sql)\n",
    "\n",
    "restart_demo()"
   ]
  },
  {
   "cell_type": "code",
   "execution_count": null,
   "id": "4f6ca5d7",
   "metadata": {},
   "outputs": [],
   "source": []
  }
 ],
 "metadata": {
  "kernelspec": {
   "display_name": "Python 3",
   "language": "python",
   "name": "python3"
  },
  "language_info": {
   "codemirror_mode": {
    "name": "ipython",
    "version": 3
   },
   "file_extension": ".py",
   "mimetype": "text/x-python",
   "name": "python",
   "nbconvert_exporter": "python",
   "pygments_lexer": "ipython3",
   "version": "3.9.2"
  }
 },
 "nbformat": 4,
 "nbformat_minor": 5
}
